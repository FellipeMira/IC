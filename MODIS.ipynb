{
 "cells": [
  {
   "cell_type": "code",
   "execution_count": 1,
   "metadata": {},
   "outputs": [],
   "source": [
    "!pip install geehydro -q\n",
    "!pip install proplot -q\n",
    "!pip install ipygee -q"
   ]
  },
  {
   "cell_type": "code",
   "execution_count": 99,
   "metadata": {},
   "outputs": [],
   "source": [
    "import ee\n",
    "import os\n",
    "import matplotlib.pyplot as plt\n",
    "import pandas as pd\n",
    "import seaborn as sns\n",
    "import geopandas as gpd\n",
    "import geemap\n",
    "import rasterio as rio\n",
    "import pprint\n",
    "import time\n",
    "import gc\n",
    "import numpy as np\n",
    "import folium \n",
    "import geehydro\n",
    "import seaborn as sns\n",
    "\n",
    "\n",
    "from sklearn.preprocessing import Normalizer\n",
    "from numpy import unique\n",
    "from rasterio import features\n",
    "from osgeo import gdal\n",
    "from osgeo import osr\n",
    "from datetime import datetime\n",
    "from dateutil import relativedelta\n",
    "from datetime import timedelta\n",
    "from pandas.plotting import register_matplotlib_converters\n",
    "from ipygee import *\n"
   ]
  },
  {
   "cell_type": "code",
   "execution_count": 100,
   "metadata": {},
   "outputs": [],
   "source": [
    "try:\n",
    "    ee.Initialize()\n",
    "except Exception as e:\n",
    "    ee.Authenticate()\n",
    "    ee.Initialize()"
   ]
  },
  {
   "cell_type": "code",
   "execution_count": 101,
   "metadata": {},
   "outputs": [
    {
     "data": {
      "application/vnd.jupyter.widget-view+json": {
       "model_id": "ca17f582b96044d68f66f3698fca9f7a",
       "version_major": 2,
       "version_minor": 0
      },
      "text/plain": [
       "Map(center=[20, 0], controls=(WidgetControl(options=['position', 'transparent_bg'], widget=HBox(children=(Togg…"
      ]
     },
     "metadata": {},
     "output_type": "display_data"
    }
   ],
   "source": [
    "def maskEmptyPixels(image): \n",
    "  withObs = image.select('num_observations_1km').gt(0)\n",
    "  return image.updateMask(withObs)\n",
    "\n",
    "\n",
    "def maskClouds(image): \n",
    "  QA = image.select('state_1km')\n",
    "  bitMask = 1 << 10\n",
    "  return image.updateMask(QA.bitwiseAnd(bitMask).eq(0))\n",
    "\n",
    "collection = ee.ImageCollection('MODIS/006/MOD09GA')\\\n",
    "        .filterDate('2010-04-01', '2010-05-01')\\\n",
    "        .map(maskEmptyPixels)\n",
    "\n",
    "totalObsCount = collection\\\n",
    "        .select('num_observations_1km')\\\n",
    "        .count()\n",
    "\n",
    "collectionCloudMasked = collection.map(maskClouds)\n",
    "\n",
    "clearObsCount = collectionCloudMasked\\\n",
    "        .select('num_observations_1km')\\\n",
    "        .count()\\\n",
    "        .unmask(0)\n",
    "        \n",
    "\n",
    "# Create a default map\n",
    "Map = geemap.Map()\n",
    "Map.addLayer(\n",
    "    collectionCloudMasked.median(),\n",
    "    {'bands': ['sur_refl_b01', 'sur_refl_b04', 'sur_refl_b03'],\n",
    "     'gain': 0.07,\n",
    "     'gamma': 1.4\n",
    "    },\n",
    "    'median of masked collection'\n",
    "  )\n",
    "Map.addLayer(\n",
    "    totalObsCount,\n",
    "    {'min': 84, 'max': 92},\n",
    "    'count of total observations',\n",
    "    False\n",
    "  )\n",
    "Map.addLayer(\n",
    "    clearObsCount,\n",
    "    {'min': 0, 'max': 90},\n",
    "    'count of clear observations',\n",
    "    False\n",
    "  )\n",
    "Map.addLayer(\n",
    "    clearObsCount.toFloat().divide(totalObsCount),\n",
    "    {'min': 0, 'max': 1},\n",
    "    'ratio of clear to total observations'\n",
    "  )\n",
    "Map"
   ]
  },
  {
   "cell_type": "code",
   "execution_count": 102,
   "metadata": {},
   "outputs": [],
   "source": [
    "x1,y1,x2,y2= -55.3800349723379242,-8.0051619964282423,-54.7129565837871183,-7.5177835013920964\n",
    "\n",
    "geometria = ee.Geometry.Polygon(\n",
    "        [[[float(x1),float(y2)],\n",
    "          [float(x2),float(y2)],\n",
    "          [float(x2),float(y1)],\n",
    "          [float(x1),float(y1)],\n",
    "          [float(x1),float(y2)]]])\n",
    "\n",
    "def scale_factor(image):\n",
    "    # scale factor for the MODIS MOD13Q1 product\n",
    "    return image.multiply(0.0001).copyProperties(image, \n",
    "                                             ['system:time_start'])\n",
    "# Dataset \n",
    "image = ee.ImageCollection(\"MODIS/006/MOD13Q1\")\\\n",
    "        .filterDate('2000-02-18','2005-01-01')\\\n",
    "        .map(scale_factor)\\\n",
    "        .median()\\\n",
    "        .clip(geometria)\n",
    "\n",
    "bands = ['EVI', 'NDVI']\n",
    "\n",
    "image = image.select(bands)\n",
    "# Select all bands and NDVI for the classification\n",
    "#print(image.bandNames().getInfo())\n",
    "\n",
    "\n",
    "# Perform K-means clustering\n",
    "training_dataset = image.sample(\n",
    "    **{\n",
    "        'scale': 250,\n",
    "        'numPixels': 500,\n",
    "        'seed': 0,\n",
    "        'geometries': True,  # Set this to False to ignore geometries\n",
    "    }\n",
    ")\n",
    "\n",
    "\n",
    "clusters_kmeans = ee.Clusterer.wekaKMeans(9).train(training_dataset)\n",
    "\n",
    "# Classify the image\n",
    "classified = image.cluster(clusters_kmeans)\n",
    "\n",
    "# Create a mask for each of the 8 clusters\n",
    "mask0 = classified.eq(0)\n",
    "mask1 = classified.eq(1)\n",
    "mask2 = classified.eq(2)\n",
    "mask3 = classified.eq(3)\n",
    "mask4 = classified.eq(4)\n",
    "mask5 = classified.eq(5)\n",
    "mask6 = classified.eq(6)\n",
    "mask7 = classified.eq(7)\n",
    "mask8 = classified.eq(8)\n",
    "\n",
    "\n",
    "\n",
    "masks = [mask0, mask1, mask2, mask3, mask4, mask5, mask6, mask7, mask8]\n"
   ]
  },
  {
   "cell_type": "code",
   "execution_count": 6,
   "metadata": {},
   "outputs": [
    {
     "data": {
      "application/vnd.jupyter.widget-view+json": {
       "model_id": "6b68781f0088497d8fc9fefd803ce365",
       "version_major": 2,
       "version_minor": 0
      },
      "text/plain": [
       "Map(center=[20, 0], controls=(WidgetControl(options=['position', 'transparent_bg'], widget=HBox(children=(Togg…"
      ]
     },
     "metadata": {},
     "output_type": "display_data"
    }
   ],
   "source": [
    "# Create a default map\n",
    "Map = geemap.Map()\n",
    "Map.addLayer(masks[0], {'palette': ['white', 'black']}, 'Cluster '+ str(0))\n",
    "Map.addLayer(masks[1], {'palette': ['white', 'black']}, 'Cluster '+ str(1))\n",
    "Map.addLayer(masks[2], {'palette': ['white', 'black']}, 'Cluster '+ str(2))\n",
    "Map.addLayer(masks[3], {'palette': ['white', 'black']}, 'Cluster '+ str(3))\n",
    "Map.addLayer(masks[4], {'palette': ['white', 'black']}, 'Cluster '+ str(4))\n",
    "Map.addLayer(masks[5], {'palette': ['white', 'black']}, 'Cluster '+ str(5))\n",
    "Map.addLayer(masks[6], {'palette': ['white', 'black']}, 'Cluster '+ str(6))\n",
    "Map.addLayer(masks[7], {'palette': ['white', 'black']}, 'Cluster '+ str(7))\n",
    "Map.addLayer(classified.randomVisualizer(), {} , 'teste')\n",
    "#Map.addLayer(mask0.randomVisualizer(), {} , 'mask')\n",
    "\n",
    "# Display the map\n",
    "Map"
   ]
  },
  {
   "cell_type": "code",
   "execution_count": 103,
   "metadata": {},
   "outputs": [],
   "source": [
    "# Dataset \n",
    "IMAGE_COLLECTION = ee.ImageCollection(\"MODIS/006/MOD13Q1\")\\\n",
    "        .filterDate('2000-02-18','2022-01-01')\\\n",
    "        .map(scale_factor)\n",
    "\n",
    "IMAGE_COLLECTION = IMAGE_COLLECTION.map(lambda img: img.addBands(classified))\n"
   ]
  },
  {
   "cell_type": "code",
   "execution_count": 8,
   "metadata": {},
   "outputs": [
    {
     "data": {
      "application/vnd.jupyter.widget-view+json": {
       "model_id": "d96b79a213234ec1a70e7568a98351b7",
       "version_major": 2,
       "version_minor": 0
      },
      "text/plain": [
       "HTML(value='<embed src=data:image/svg+xml;charset=utf-8;base64,PD94bWwgdmVyc2lvbj0nMS4wJyBlbmNvZGluZz0ndXRmLTg…"
      ]
     },
     "metadata": {},
     "output_type": "display_data"
    }
   ],
   "source": [
    "NDVI = chart.Image.series(**{'imageCollection': IMAGE_COLLECTION.select('NDVI'), \n",
    "                                   'region': geometria, \n",
    "                                   'reducer': ee.Reducer.mean(), \n",
    "                                   'scale': 1000, \n",
    "                                   'xProperty' : 'system:time_start'})\n",
    "NDVI.renderWidget(width='100%')"
   ]
  },
  {
   "cell_type": "code",
   "execution_count": 9,
   "metadata": {},
   "outputs": [
    {
     "data": {
      "text/plain": [
       "<AxesSubplot: ylabel='NDVI'>"
      ]
     },
     "execution_count": 9,
     "metadata": {},
     "output_type": "execute_result"
    },
    {
     "data": {
      "image/png": "[encoded data removed]",
      "text/plain": [
       "<Figure size 1200x800 with 1 Axes>"
      ]
     },
     "metadata": {},
     "output_type": "display_data"
    }
   ],
   "source": [
    "sns.set(rc={'figure.figsize':(12,8)})\n",
    "sns.lineplot(x=NDVI.dataframe.index,\n",
    "            y=NDVI.dataframe['NDVI'],\n",
    "            data=NDVI) "
   ]
  },
  {
   "cell_type": "code",
   "execution_count": 104,
   "metadata": {},
   "outputs": [],
   "source": [
    "def add_date_info(df):\n",
    "  df['Timestamp'] = pd.to_datetime(df['millis'], unit='ms')\n",
    "  df['Jdate'] = pd.DatetimeIndex(df['Timestamp']).to_julian_date()\n",
    "  return df\n",
    "\n",
    "\n",
    "def fc_to_dict(fc):\n",
    "  \n",
    "  prop_names = fc.first().propertyNames()\n",
    "\n",
    "  prop_lists = fc.reduceColumns(\n",
    "\n",
    "      reducer=ee.Reducer.toList().repeat(prop_names.size()),\n",
    "\n",
    "      selectors=prop_names).get('list')\n",
    "\n",
    "  return ee.Dictionary.fromLists(prop_names, prop_lists)\n",
    "\n",
    "\n",
    "def create_reduce_region_function(geometry,\n",
    "                                  reducer,\n",
    "                                  scale = 250,\n",
    "                                  crs='EPSG:4326',\n",
    "                                  bestEffort=True,\n",
    "                                  maxPixels=1e13,\n",
    "                                  tileScale=4):\n",
    "\n",
    "  def reduce_region_function(img):\n",
    "    stat = img.reduceRegion(\n",
    "        reducer=reducer,\n",
    "        geometry=geometry,\n",
    "        scale=scale,\n",
    "        crs=crs,\n",
    "        bestEffort=bestEffort,\n",
    "        maxPixels=maxPixels,\n",
    "        tileScale=tileScale)\n",
    "    return ee.Feature(geometry, stat).set({'millis': img.date().millis()})  \n",
    "  return reduce_region_function"
   ]
  },
  {
   "cell_type": "code",
   "execution_count": 11,
   "metadata": {},
   "outputs": [
    {
     "name": "stdout",
     "output_type": "stream",
     "text": [
      "df0\n",
      "df1\n",
      "df2\n",
      "df3\n",
      "df4\n",
      "df5\n",
      "df6\n",
      "df7\n",
      "df8\n"
     ]
    }
   ],
   "source": [
    "for i in range(0,len(masks)):\n",
    "  \n",
    "  masked = IMAGE_COLLECTION.map(lambda img: img.updateMask(masks[i]))\n",
    "  \n",
    "  reduce_b = create_reduce_region_function(\n",
    "  geometry = masks[i].geometry(), reducer=ee.Reducer.stdDev(), scale=250)\n",
    "\n",
    "  b_stat_fc = ee.FeatureCollection(masked.map(reduce_b)).filter(\n",
    "  ee.Filter.notNull(masked.first().bandNames()))\n",
    "  \n",
    "  dict = fc_to_dict(b_stat_fc).getInfo()\n",
    "  \n",
    "  df = pd.DataFrame(dict)\n",
    "  df = add_date_info(df)\n",
    "  \n",
    "  name_file = 'df_std'+str(i)+'.csv'\n",
    "  df.to_csv(name_file)\n",
    "  print('df'+str(i))"
   ]
  },
  {
   "cell_type": "code",
   "execution_count": 12,
   "metadata": {},
   "outputs": [
    {
     "name": "stdout",
     "output_type": "stream",
     "text": [
      "df0\n",
      "df1\n",
      "df2\n",
      "df3\n",
      "df4\n",
      "df5\n",
      "df6\n",
      "df7\n",
      "df8\n"
     ]
    }
   ],
   "source": [
    "for i in range(0,len(masks)):\n",
    "  \n",
    "  masked = IMAGE_COLLECTION.map(lambda img: img.updateMask(masks[i]))\n",
    "  \n",
    "  reduce_b = create_reduce_region_function(\n",
    "  geometry = masks[i].geometry(), reducer=ee.Reducer.median(), scale=250)\n",
    "\n",
    "  b_stat_fc = ee.FeatureCollection(masked.map(reduce_b)).filter(\n",
    "  ee.Filter.notNull(masked.first().bandNames()))\n",
    "  \n",
    "  dict = fc_to_dict(b_stat_fc).getInfo()\n",
    "  \n",
    "  df = pd.DataFrame(dict)\n",
    "  df = add_date_info(df)\n",
    "  \n",
    "  name_file = 'df_median'+str(i)+'.csv'\n",
    "  df.to_csv(name_file)\n",
    "  print('df'+str(i))"
   ]
  },
  {
   "attachments": {},
   "cell_type": "markdown",
   "metadata": {},
   "source": [
    "# Aplicando os limiares nas imagens"
   ]
  },
  {
   "cell_type": "code",
   "execution_count": 105,
   "metadata": {},
   "outputs": [
    {
     "data": {
      "text/plain": [
       "['2002-02-02',\n",
       " '2009-10-16',\n",
       " '2002-12-19',\n",
       " '2021-12-03',\n",
       " '2013-09-30',\n",
       " '2003-07-12',\n",
       " '2015-04-23',\n",
       " '2009-04-23',\n",
       " '2000-05-24',\n",
       " '2021-08-13',\n",
       " '2001-09-14',\n",
       " '2011-07-28',\n",
       " '2011-12-19',\n",
       " '2007-08-29',\n",
       " '2016-05-24',\n",
       " '2008-12-02',\n",
       " '2012-02-02',\n",
       " '2004-10-31',\n",
       " '2000-06-25',\n",
       " '2008-09-13']"
      ]
     },
     "execution_count": 105,
     "metadata": {},
     "output_type": "execute_result"
    }
   ],
   "source": [
    "\n",
    "dates = df['Timestamp'].sample(20)\n",
    "dates = dates.astype(str)\n",
    "dates = [dates.iloc[i] for i in range(len(dates))]\n",
    "dates"
   ]
  },
  {
   "attachments": {},
   "cell_type": "markdown",
   "metadata": {},
   "source": [
    "## Amostrando a série temporal"
   ]
  },
  {
   "cell_type": "code",
   "execution_count": 110,
   "metadata": {},
   "outputs": [
    {
     "data": {
      "text/plain": [
       "['2002-12-19',\n",
       " '2003-07-12',\n",
       " '2004-10-31',\n",
       " '2007-08-29',\n",
       " '2008-09-13',\n",
       " '2008-12-02',\n",
       " '2009-04-23',\n",
       " '2009-10-16',\n",
       " '2011-07-28',\n",
       " '2011-12-19',\n",
       " '2012-02-02',\n",
       " '2013-09-30',\n",
       " '2015-04-23',\n",
       " '2016-05-24',\n",
       " '2021-08-13',\n",
       " '2021-12-03']"
      ]
     },
     "execution_count": 110,
     "metadata": {},
     "output_type": "execute_result"
    }
   ],
   "source": [
    "def addTime(x):\n",
    "    return x.set('Date', ee.Date(x.get('system:time_start')).format(\"YYYY-MM-dd\"))\n",
    "  \n",
    "cover = ee.ImageCollection('MODIS/006/MYD11A1')\\\n",
    "            .filterDate('2000-02-18','2022-01-01')\\\n",
    "            .map(scale_factor)\\\n",
    "            .map(addTime)\\\n",
    "            .map(lambda img: img.clip(geometria))\\\n",
    "            .filter(ee.Filter.inList('Date',ee.List(dates)))\n",
    "\n",
    "cover \\\n",
    "    .toList(30) \\\n",
    "    .map(lambda image: ee.Image(image).get('Date')) \\\n",
    "    .getInfo()\n"
   ]
  },
  {
   "cell_type": "code",
   "execution_count": 111,
   "metadata": {},
   "outputs": [
    {
     "name": "stdout",
     "output_type": "stream",
     "text": [
      "Total number of images: 16\n",
      "\n",
      "Downloading 1/16: 2002_12_19.tif\n"
     ]
    },
    {
     "data": {
      "application/vnd.jupyter.widget-view+json": {
       "model_id": "485400b0e9c34c06a2b211df4fe8a0fa",
       "version_major": 2,
       "version_minor": 0
      },
      "text/plain": [
       "2002_12_19.tif: |          | 0.00/6.76M (raw) [  0.0%] in 00:00 (eta:     ?)"
      ]
     },
     "metadata": {},
     "output_type": "display_data"
    },
    {
     "name": "stderr",
     "output_type": "stream",
     "text": [
      "There is no STAC entry for: None\n"
     ]
    },
    {
     "name": "stdout",
     "output_type": "stream",
     "text": [
      "Downloading 2/16: 2003_07_12.tif\n"
     ]
    },
    {
     "data": {
      "application/vnd.jupyter.widget-view+json": {
       "model_id": "f171d00fd1fa43319ae4b2573541e202",
       "version_major": 2,
       "version_minor": 0
      },
      "text/plain": [
       "2003_07_12.tif: |          | 0.00/6.76M (raw) [  0.0%] in 00:00 (eta:     ?)"
      ]
     },
     "metadata": {},
     "output_type": "display_data"
    },
    {
     "name": "stdout",
     "output_type": "stream",
     "text": [
      "Downloading 3/16: 2004_10_31.tif\n"
     ]
    },
    {
     "data": {
      "application/vnd.jupyter.widget-view+json": {
       "model_id": "264816aaba7f4220b04d63a20808156b",
       "version_major": 2,
       "version_minor": 0
      },
      "text/plain": [
       "2004_10_31.tif: |          | 0.00/6.76M (raw) [  0.0%] in 00:00 (eta:     ?)"
      ]
     },
     "metadata": {},
     "output_type": "display_data"
    },
    {
     "name": "stdout",
     "output_type": "stream",
     "text": [
      "Downloading 4/16: 2007_08_29.tif\n"
     ]
    },
    {
     "data": {
      "application/vnd.jupyter.widget-view+json": {
       "model_id": "99e0600978b2454f991c445df27088a3",
       "version_major": 2,
       "version_minor": 0
      },
      "text/plain": [
       "2007_08_29.tif: |          | 0.00/6.76M (raw) [  0.0%] in 00:00 (eta:     ?)"
      ]
     },
     "metadata": {},
     "output_type": "display_data"
    },
    {
     "name": "stdout",
     "output_type": "stream",
     "text": [
      "Downloading 5/16: 2008_09_13.tif\n"
     ]
    },
    {
     "data": {
      "application/vnd.jupyter.widget-view+json": {
       "model_id": "5b43bdbe87a148a59e4dbeecfe4937f0",
       "version_major": 2,
       "version_minor": 0
      },
      "text/plain": [
       "2008_09_13.tif: |          | 0.00/6.76M (raw) [  0.0%] in 00:00 (eta:     ?)"
      ]
     },
     "metadata": {},
     "output_type": "display_data"
    },
    {
     "name": "stdout",
     "output_type": "stream",
     "text": [
      "Downloading 6/16: 2008_12_02.tif\n"
     ]
    },
    {
     "data": {
      "application/vnd.jupyter.widget-view+json": {
       "model_id": "e02b9f321dce47128ae52d46059e12b4",
       "version_major": 2,
       "version_minor": 0
      },
      "text/plain": [
       "2008_12_02.tif: |          | 0.00/6.76M (raw) [  0.0%] in 00:00 (eta:     ?)"
      ]
     },
     "metadata": {},
     "output_type": "display_data"
    },
    {
     "name": "stdout",
     "output_type": "stream",
     "text": [
      "Downloading 7/16: 2009_04_23.tif\n"
     ]
    },
    {
     "data": {
      "application/vnd.jupyter.widget-view+json": {
       "model_id": "123c68583d6c4472a2d6a3e4d2ed329d",
       "version_major": 2,
       "version_minor": 0
      },
      "text/plain": [
       "2009_04_23.tif: |          | 0.00/6.76M (raw) [  0.0%] in 00:00 (eta:     ?)"
      ]
     },
     "metadata": {},
     "output_type": "display_data"
    },
    {
     "name": "stdout",
     "output_type": "stream",
     "text": [
      "Downloading 8/16: 2009_10_16.tif\n"
     ]
    },
    {
     "data": {
      "application/vnd.jupyter.widget-view+json": {
       "model_id": "28d57325535f4581a971eb26bca9921b",
       "version_major": 2,
       "version_minor": 0
      },
      "text/plain": [
       "2009_10_16.tif: |          | 0.00/6.76M (raw) [  0.0%] in 00:00 (eta:     ?)"
      ]
     },
     "metadata": {},
     "output_type": "display_data"
    },
    {
     "name": "stdout",
     "output_type": "stream",
     "text": [
      "Downloading 9/16: 2011_07_28.tif\n"
     ]
    },
    {
     "data": {
      "application/vnd.jupyter.widget-view+json": {
       "model_id": "75b5a33274de4fe6972c055c409b64d2",
       "version_major": 2,
       "version_minor": 0
      },
      "text/plain": [
       "2011_07_28.tif: |          | 0.00/6.76M (raw) [  0.0%] in 00:00 (eta:     ?)"
      ]
     },
     "metadata": {},
     "output_type": "display_data"
    },
    {
     "name": "stdout",
     "output_type": "stream",
     "text": [
      "Downloading 10/16: 2011_12_19.tif\n"
     ]
    },
    {
     "data": {
      "application/vnd.jupyter.widget-view+json": {
       "model_id": "e5b70b33815a4048b1085d1369a6d185",
       "version_major": 2,
       "version_minor": 0
      },
      "text/plain": [
       "2011_12_19.tif: |          | 0.00/6.76M (raw) [  0.0%] in 00:00 (eta:     ?)"
      ]
     },
     "metadata": {},
     "output_type": "display_data"
    },
    {
     "name": "stdout",
     "output_type": "stream",
     "text": [
      "Downloading 11/16: 2012_02_02.tif\n"
     ]
    },
    {
     "data": {
      "application/vnd.jupyter.widget-view+json": {
       "model_id": "98763224de7a472eb0a6bf78d01a9d29",
       "version_major": 2,
       "version_minor": 0
      },
      "text/plain": [
       "2012_02_02.tif: |          | 0.00/6.76M (raw) [  0.0%] in 00:00 (eta:     ?)"
      ]
     },
     "metadata": {},
     "output_type": "display_data"
    },
    {
     "name": "stdout",
     "output_type": "stream",
     "text": [
      "Downloading 12/16: 2013_09_30.tif\n"
     ]
    },
    {
     "data": {
      "application/vnd.jupyter.widget-view+json": {
       "model_id": "227e8221f3214b69b18d71abcb854e7d",
       "version_major": 2,
       "version_minor": 0
      },
      "text/plain": [
       "2013_09_30.tif: |          | 0.00/6.76M (raw) [  0.0%] in 00:00 (eta:     ?)"
      ]
     },
     "metadata": {},
     "output_type": "display_data"
    },
    {
     "name": "stdout",
     "output_type": "stream",
     "text": [
      "Downloading 13/16: 2015_04_23.tif\n"
     ]
    },
    {
     "data": {
      "application/vnd.jupyter.widget-view+json": {
       "model_id": "0520e0dacdf647c0a89e3b787db731c6",
       "version_major": 2,
       "version_minor": 0
      },
      "text/plain": [
       "2015_04_23.tif: |          | 0.00/6.76M (raw) [  0.0%] in 00:00 (eta:     ?)"
      ]
     },
     "metadata": {},
     "output_type": "display_data"
    },
    {
     "name": "stdout",
     "output_type": "stream",
     "text": [
      "Downloading 14/16: 2016_05_24.tif\n"
     ]
    },
    {
     "data": {
      "application/vnd.jupyter.widget-view+json": {
       "model_id": "81c2a4c2c20945edaf5ae93184b88ff6",
       "version_major": 2,
       "version_minor": 0
      },
      "text/plain": [
       "2016_05_24.tif: |          | 0.00/6.76M (raw) [  0.0%] in 00:00 (eta:     ?)"
      ]
     },
     "metadata": {},
     "output_type": "display_data"
    },
    {
     "name": "stdout",
     "output_type": "stream",
     "text": [
      "Downloading 15/16: 2021_08_13.tif\n"
     ]
    },
    {
     "data": {
      "application/vnd.jupyter.widget-view+json": {
       "model_id": "a30a188b25e842219c36c9788429693d",
       "version_major": 2,
       "version_minor": 0
      },
      "text/plain": [
       "2021_08_13.tif: |          | 0.00/6.76M (raw) [  0.0%] in 00:00 (eta:     ?)"
      ]
     },
     "metadata": {},
     "output_type": "display_data"
    },
    {
     "name": "stdout",
     "output_type": "stream",
     "text": [
      "Downloading 16/16: 2021_12_03.tif\n"
     ]
    },
    {
     "data": {
      "application/vnd.jupyter.widget-view+json": {
       "model_id": "b1835e412a2946aa9872b986b1652a7e",
       "version_major": 2,
       "version_minor": 0
      },
      "text/plain": [
       "2021_12_03.tif: |          | 0.00/6.76M (raw) [  0.0%] in 00:00 (eta:     ?)"
      ]
     },
     "metadata": {},
     "output_type": "display_data"
    }
   ],
   "source": [
    "out_dir = os.path.expanduser('~/Downloads')\n",
    "\n",
    "geemap.download_ee_image_collection(cover, out_dir, scale=250)"
   ]
  },
  {
   "cell_type": "code",
   "execution_count": 113,
   "metadata": {},
   "outputs": [
    {
     "name": "stdout",
     "output_type": "stream",
     "text": [
      "Generating URL ...\n",
      "Downloading data from https://earthengine.googleapis.com/v1alpha/projects/earthengine-legacy/thumbnails/0929d17a568d57074aae81671121e476-30caa93e1b34c1f5e2218852f14aa9bf:getPixels\n",
      "Please wait ...\n",
      "Data downloaded to c:\\Users\\Fellipe\\Desktop\\Projetos\\IC\\IC\n"
     ]
    }
   ],
   "source": [
    "geemap.ee_export_image(\n",
    "    classified, filename='clusters.tif', scale=250, region=geometria, file_per_band=True\n",
    ")"
   ]
  }
 ],
 "metadata": {
  "kernelspec": {
   "display_name": "GEE",
   "language": "python",
   "name": "python3"
  },
  "language_info": {
   "codemirror_mode": {
    "name": "ipython",
    "version": 3
   },
   "file_extension": ".py",
   "mimetype": "text/x-python",
   "name": "python",
   "nbconvert_exporter": "python",
   "pygments_lexer": "ipython3",
   "version": "3.10.8"
  },
  "orig_nbformat": 4,
  "vscode": {
   "interpreter": {
    "hash": "125c1d710e1609a2f88aa733652230dd35aac57514b00363cd0f95a89fd03136"
   }
  }
 },
 "nbformat": 4,
 "nbformat_minor": 2
}

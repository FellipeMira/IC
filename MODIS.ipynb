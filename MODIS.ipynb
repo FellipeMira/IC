{
 "cells": [
  {
   "cell_type": "code",
   "execution_count": 1,
   "metadata": {},
   "outputs": [],
   "source": [
    "import ee\n",
    "import os\n",
    "import pandas as pd\n",
    "import seaborn as sns\n",
    "import geopandas as gpd\n",
    "import geemap\n",
    "import rasterio as rio\n",
    "import pprint\n",
    "import time\n",
    "import gc\n",
    "import numpy as np\n",
    "\n",
    "from sklearn.preprocessing import Normalizer\n",
    "from numpy import unique\n",
    "from rasterio import features\n",
    "from osgeo import gdal\n",
    "from osgeo import osr\n",
    "from datetime import datetime\n",
    "from dateutil import relativedelta\n",
    "from datetime import timedelta\n"
   ]
  },
  {
   "cell_type": "code",
   "execution_count": 2,
   "metadata": {},
   "outputs": [],
   "source": [
    "try:\n",
    "    ee.Initialize()\n",
    "except Exception as e:\n",
    "    ee.Authenticate()\n",
    "    ee.Initialize()"
   ]
  },
  {
   "cell_type": "code",
   "execution_count": 3,
   "metadata": {},
   "outputs": [
    {
     "data": {
      "application/vnd.jupyter.widget-view+json": {
       "model_id": "581c85c186204d01817c6c7ff2896e49",
       "version_major": 2,
       "version_minor": 0
      },
      "text/plain": [
       "Map(center=[20, 0], controls=(WidgetControl(options=['position', 'transparent_bg'], widget=HBox(children=(Togg…"
      ]
     },
     "metadata": {},
     "output_type": "display_data"
    }
   ],
   "source": [
    "def maskEmptyPixels(image): \n",
    "  withObs = image.select('num_observations_1km').gt(0)\n",
    "  return image.updateMask(withObs)\n",
    "\n",
    "\n",
    "def maskClouds(image): \n",
    "  QA = image.select('state_1km')\n",
    "  bitMask = 1 << 10\n",
    "  return image.updateMask(QA.bitwiseAnd(bitMask).eq(0))\n",
    "\n",
    "collection = ee.ImageCollection('MODIS/006/MOD09GA')\\\n",
    "        .filterDate('2010-04-01', '2010-05-01')\\\n",
    "        .map(maskEmptyPixels)\n",
    "\n",
    "totalObsCount = collection\\\n",
    "        .select('num_observations_1km')\\\n",
    "        .count()\n",
    "\n",
    "collectionCloudMasked = collection.map(maskClouds)\n",
    "\n",
    "clearObsCount = collectionCloudMasked\\\n",
    "        .select('num_observations_1km')\\\n",
    "        .count()\\\n",
    "        .unmask(0)\n",
    "        \n",
    "\n",
    "# Create a default map\n",
    "Map = geemap.Map()\n",
    "Map.addLayer(\n",
    "    collectionCloudMasked.median(),\n",
    "    {'bands': ['sur_refl_b01', 'sur_refl_b04', 'sur_refl_b03'],\n",
    "     'gain': 0.07,\n",
    "     'gamma': 1.4\n",
    "    },\n",
    "    'median of masked collection'\n",
    "  )\n",
    "Map.addLayer(\n",
    "    totalObsCount,\n",
    "    {'min': 84, 'max': 92},\n",
    "    'count of total observations',\n",
    "    False\n",
    "  )\n",
    "Map.addLayer(\n",
    "    clearObsCount,\n",
    "    {'min': 0, 'max': 90},\n",
    "    'count of clear observations',\n",
    "    False\n",
    "  )\n",
    "Map.addLayer(\n",
    "    clearObsCount.toFloat().divide(totalObsCount),\n",
    "    {'min': 0, 'max': 1},\n",
    "    'ratio of clear to total observations'\n",
    "  )\n",
    "Map"
   ]
  },
  {
   "cell_type": "code",
   "execution_count": 7,
   "metadata": {},
   "outputs": [],
   "source": [
    "x1,y1,x2,y2= -55.3800349723379242,-8.0051619964282423,-54.7129565837871183,-7.5177835013920964\n",
    "\n",
    "geometria = ee.Geometry.Polygon(\n",
    "        [[[float(x1),float(y2)],\n",
    "          [float(x2),float(y2)],\n",
    "          [float(x2),float(y1)],\n",
    "          [float(x1),float(y1)],\n",
    "          [float(x1),float(y2)]]])\n",
    "# Dataset \n",
    "image = ee.ImageCollection(\"MODIS/006/MOD13Q1\")\\\n",
    "        .filterDate('2000-02-18','2005-01-01')\\\n",
    "        .median()\\\n",
    "        .clip(geometria)\n",
    "\n",
    "bands = ['EVI', 'NDVI']\n",
    "\n",
    "image = image.select(bands)\n",
    "# Select all bands and NDVI for the classification\n",
    "#print(image.bandNames().getInfo())\n",
    "\n",
    "\n",
    "# Perform K-means clustering\n",
    "training_dataset = image.sample(\n",
    "    **{\n",
    "        'scale': 250,\n",
    "        'numPixels': 500,\n",
    "        'seed': 0,\n",
    "        'geometries': True,  # Set this to False to ignore geometries\n",
    "    }\n",
    ")\n",
    "\n",
    "\n",
    "clusters_kmeans = ee.Clusterer.wekaKMeans(9).train(training_dataset)\n",
    "\n",
    "# Classify the image\n",
    "classified = image.cluster(clusters_kmeans)\n",
    "\n",
    "# Create a mask for each of the 8 clusters\n",
    "mask0 = classified.eq(0)\n",
    "mask1 = classified.eq(1)\n",
    "mask2 = classified.eq(2)\n",
    "mask3 = classified.eq(3)\n",
    "mask4 = classified.eq(4)\n",
    "mask5 = classified.eq(5)\n",
    "mask6 = classified.eq(6)\n",
    "mask7 = classified.eq(7)\n",
    "mask8 = classified.eq(8)\n",
    "\n",
    "\n",
    "\n",
    "masks = [mask0, mask1, mask2, mask3, mask4, mask5, mask6, mask7, mask8]\n"
   ]
  },
  {
   "cell_type": "code",
   "execution_count": 8,
   "metadata": {},
   "outputs": [
    {
     "data": {
      "application/vnd.jupyter.widget-view+json": {
       "model_id": "6743535e8c844c4cbea033182f7ee301",
       "version_major": 2,
       "version_minor": 0
      },
      "text/plain": [
       "Map(center=[20, 0], controls=(WidgetControl(options=['position', 'transparent_bg'], widget=HBox(children=(Togg…"
      ]
     },
     "metadata": {},
     "output_type": "display_data"
    }
   ],
   "source": [
    "# Create a default map\n",
    "Map = geemap.Map()\n",
    "Map.addLayer(classified.randomVisualizer(), {} , 'teste')\n",
    "Map.addLayer(masks[0], {'palette': ['white', 'black']}, 'Cluster '+ str(0))\n",
    "Map.addLayer(masks[1], {'palette': ['white', 'black']}, 'Cluster '+ str(1))\n",
    "Map.addLayer(masks[2], {'palette': ['white', 'black']}, 'Cluster '+ str(2))\n",
    "Map.addLayer(masks[3], {'palette': ['white', 'black']}, 'Cluster '+ str(3))\n",
    "Map.addLayer(masks[4], {'palette': ['white', 'black']}, 'Cluster '+ str(4))\n",
    "Map.addLayer(masks[5], {'palette': ['white', 'black']}, 'Cluster '+ str(5))\n",
    "Map.addLayer(masks[6], {'palette': ['white', 'black']}, 'Cluster '+ str(6))\n",
    "Map.addLayer(masks[7], {'palette': ['white', 'black']}, 'Cluster '+ str(7))\n",
    "#Map.addLayer(mask0.randomVisualizer(), {} , 'mask')\n",
    "\n",
    "# Display the map\n",
    "Map"
   ]
  },
  {
   "cell_type": "code",
   "execution_count": null,
   "metadata": {},
   "outputs": [],
   "source": [
    "# Dataset \n",
    "IMAGE_COLLECTION = ee.ImageCollection(\"LANDSAT/LC08/C02/T1_RT\")\\\n",
    "  .filterBounds(geometry)\\\n",
    "  .filter(ee.Filter.lt('CLOUD_COVER', 80))\\\n",
    "  .filterDate('2012-01-01', '2022-01-01')\n",
    "\n",
    "\n",
    "IMAGE_COLLECTION = IMAGE_COLLECTION.map(lambda img: img.addBands(classified))"
   ]
  }
 ],
 "metadata": {
  "kernelspec": {
   "display_name": "GEE",
   "language": "python",
   "name": "python3"
  },
  "language_info": {
   "codemirror_mode": {
    "name": "ipython",
    "version": 3
   },
   "file_extension": ".py",
   "mimetype": "text/x-python",
   "name": "python",
   "nbconvert_exporter": "python",
   "pygments_lexer": "ipython3",
   "version": "3.10.8"
  },
  "orig_nbformat": 4,
  "vscode": {
   "interpreter": {
    "hash": "125c1d710e1609a2f88aa733652230dd35aac57514b00363cd0f95a89fd03136"
   }
  }
 },
 "nbformat": 4,
 "nbformat_minor": 2
}

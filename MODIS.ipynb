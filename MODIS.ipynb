{
 "cells": [
  {
   "cell_type": "code",
   "execution_count": 1,
   "metadata": {},
   "outputs": [],
   "source": [
    "import ee\n",
    "import os\n",
    "import pandas as pd\n",
    "import seaborn as sns\n",
    "import geopandas as gpd\n",
    "import geemap\n",
    "import rasterio as rio\n",
    "import pprint\n",
    "import time\n",
    "import gc\n",
    "import numpy as np\n",
    "\n",
    "from sklearn.preprocessing import Normalizer\n",
    "from numpy import unique\n",
    "from rasterio import features\n",
    "from osgeo import gdal\n",
    "from osgeo import osr\n",
    "from datetime import datetime\n",
    "from dateutil import relativedelta\n",
    "from datetime import timedelta\n"
   ]
  },
  {
   "cell_type": "code",
   "execution_count": 2,
   "metadata": {},
   "outputs": [],
   "source": [
    "try:\n",
    "    ee.Initialize()\n",
    "except Exception as e:\n",
    "    ee.Authenticate()\n",
    "    ee.Initialize()"
   ]
  },
  {
   "cell_type": "code",
   "execution_count": 3,
   "metadata": {},
   "outputs": [],
   "source": [
    "x = \"-55.3800349723379242,-8.0051619964282423,-54.7129565837871183,-7.5177835013920964\"\n",
    "x = x.split(',')\n",
    "x = [[float(x[i]), float(x[i+1])] for i in range(0,len(x),2)]\n",
    "\n",
    "\n",
    "geometria = geometry = ee.Geometry.Polygon(x)"
   ]
  },
  {
   "cell_type": "code",
   "execution_count": 8,
   "metadata": {},
   "outputs": [
    {
     "data": {
      "application/vnd.jupyter.widget-view+json": {
       "model_id": "0714c040ae3048a886f8a29e3ef99ed1",
       "version_major": 2,
       "version_minor": 0
      },
      "text/plain": [
       "Map(center=[20, 0], controls=(WidgetControl(options=['position', 'transparent_bg'], widget=HBox(children=(Togg…"
      ]
     },
     "metadata": {},
     "output_type": "display_data"
    }
   ],
   "source": [
    "def maskEmptyPixels(image): \n",
    "  withObs = image.select('num_observations_1km').gt(0)\n",
    "  return image.updateMask(withObs)\n",
    "\n",
    "\n",
    "def maskClouds(image): \n",
    "  QA = image.select('state_1km')\n",
    "  bitMask = 1 << 10\n",
    "  return image.updateMask(QA.bitwiseAnd(bitMask).eq(0))\n",
    "\n",
    "collection = ee.ImageCollection('MODIS/006/MOD09GA')\\\n",
    "        .filterDate('2010-04-01', '2010-05-01')\\\n",
    "        .map(maskEmptyPixels)\n",
    "\n",
    "totalObsCount = collection\\\n",
    "        .select('num_observations_1km')\\\n",
    "        .count()\n",
    "\n",
    "collectionCloudMasked = collection.map(maskClouds)\n",
    "\n",
    "clearObsCount = collectionCloudMasked\\\n",
    "        .select('num_observations_1km')\\\n",
    "        .count()\\\n",
    "        .unmask(0)\n",
    "        \n",
    "\n",
    "# Create a default map\n",
    "Map = geemap.Map()\n",
    "Map.addLayer(\n",
    "    collectionCloudMasked.median(),\n",
    "    {'bands': ['sur_refl_b01', 'sur_refl_b04', 'sur_refl_b03'],\n",
    "     'gain': 0.07,\n",
    "     'gamma': 1.4\n",
    "    },\n",
    "    'median of masked collection'\n",
    "  )\n",
    "Map.addLayer(\n",
    "    totalObsCount,\n",
    "    {'min': 84, 'max': 92},\n",
    "    'count of total observations',\n",
    "    False\n",
    "  )\n",
    "Map.addLayer(\n",
    "    clearObsCount,\n",
    "    {'min': 0, 'max': 90},\n",
    "    'count of clear observations',\n",
    "    False\n",
    "  )\n",
    "Map.addLayer(\n",
    "    clearObsCount.toFloat().divide(totalObsCount),\n",
    "    {'min': 0, 'max': 1},\n",
    "    'ratio of clear to total observations'\n",
    "  )\n",
    "Map"
   ]
  },
  {
   "cell_type": "code",
   "execution_count": 31,
   "metadata": {},
   "outputs": [],
   "source": [
    "\n",
    "# Dataset \n",
    "image = ee.ImageCollection(\"MODIS/006/MOD13Q1\")\\\n",
    "        .filterDate('2000-02-18','2005-01-01')\\\n",
    "        .median()\\\n",
    "        .clip(geometria)\n",
    "\n",
    "bands = ['EVI', 'NDVI']\n",
    "\n",
    "image = image.select(bands)\n",
    "# Select all bands and NDVI for the classification\n",
    "#print(image.bandNames().getInfo())\n",
    "\n",
    "\n",
    "# Perform K-means clustering\n",
    "training_dataset = image.sample(\n",
    "    **{\n",
    "        'scale': 250,\n",
    "        'numPixels': 500,\n",
    "        'seed': 0,\n",
    "        'geometries': True,  # Set this to False to ignore geometries\n",
    "    }\n",
    ")\n",
    "\n",
    "\n",
    "clusters_kmeans = ee.Clusterer.wekaKMeans(9).train(training_dataset)\n",
    "\n",
    "# Classify the image\n",
    "classified = image.cluster(clusters_kmeans)\n",
    "\n",
    "# Create a mask for each of the 8 clusters\n",
    "mask0 = classified.eq(0)\n",
    "mask1 = classified.eq(1)\n",
    "mask2 = classified.eq(2)\n",
    "mask3 = classified.eq(3)\n",
    "mask4 = classified.eq(4)\n",
    "mask5 = classified.eq(5)\n",
    "mask6 = classified.eq(6)\n",
    "mask7 = classified.eq(7)\n",
    "mask8 = classified.eq(8)\n",
    "\n",
    "\n",
    "\n",
    "masks = [mask0, mask1, mask2, mask3, mask4, mask5, mask6, mask7, mask8]\n"
   ]
  },
  {
   "cell_type": "code",
   "execution_count": 30,
   "metadata": {},
   "outputs": [
    {
     "ename": "EEException",
     "evalue": "GeometryConstructors.Polygon: LinearRing requires at least 3 points.",
     "output_type": "error",
     "traceback": [
      "\u001b[0;31m---------------------------------------------------------------------------\u001b[0m",
      "\u001b[0;31mHttpError\u001b[0m                                 Traceback (most recent call last)",
      "File \u001b[0;32m~/projetos/python_proj/alura/lib/python3.10/site-packages/ee/data.py:329\u001b[0m, in \u001b[0;36m_execute_cloud_call\u001b[0;34m(call, num_retries)\u001b[0m\n\u001b[1;32m    328\u001b[0m \u001b[39mtry\u001b[39;00m:\n\u001b[0;32m--> 329\u001b[0m   \u001b[39mreturn\u001b[39;00m call\u001b[39m.\u001b[39;49mexecute(num_retries\u001b[39m=\u001b[39;49mnum_retries)\n\u001b[1;32m    330\u001b[0m \u001b[39mexcept\u001b[39;00m googleapiclient\u001b[39m.\u001b[39merrors\u001b[39m.\u001b[39mHttpError \u001b[39mas\u001b[39;00m e:\n",
      "File \u001b[0;32m~/projetos/python_proj/alura/lib/python3.10/site-packages/googleapiclient/_helpers.py:130\u001b[0m, in \u001b[0;36mpositional.<locals>.positional_decorator.<locals>.positional_wrapper\u001b[0;34m(*args, **kwargs)\u001b[0m\n\u001b[1;32m    129\u001b[0m         logger\u001b[39m.\u001b[39mwarning(message)\n\u001b[0;32m--> 130\u001b[0m \u001b[39mreturn\u001b[39;00m wrapped(\u001b[39m*\u001b[39;49margs, \u001b[39m*\u001b[39;49m\u001b[39m*\u001b[39;49mkwargs)\n",
      "File \u001b[0;32m~/projetos/python_proj/alura/lib/python3.10/site-packages/googleapiclient/http.py:938\u001b[0m, in \u001b[0;36mHttpRequest.execute\u001b[0;34m(self, http, num_retries)\u001b[0m\n\u001b[1;32m    937\u001b[0m \u001b[39mif\u001b[39;00m resp\u001b[39m.\u001b[39mstatus \u001b[39m>\u001b[39m\u001b[39m=\u001b[39m \u001b[39m300\u001b[39m:\n\u001b[0;32m--> 938\u001b[0m     \u001b[39mraise\u001b[39;00m HttpError(resp, content, uri\u001b[39m=\u001b[39m\u001b[39mself\u001b[39m\u001b[39m.\u001b[39muri)\n\u001b[1;32m    939\u001b[0m \u001b[39mreturn\u001b[39;00m \u001b[39mself\u001b[39m\u001b[39m.\u001b[39mpostproc(resp, content)\n",
      "\u001b[0;31mHttpError\u001b[0m: <HttpError 400 when requesting https://earthengine.googleapis.com/v1alpha/projects/earthengine-legacy/maps?fields=name&alt=json returned \"GeometryConstructors.Polygon: LinearRing requires at least 3 points.\". Details: \"GeometryConstructors.Polygon: LinearRing requires at least 3 points.\">",
      "\nDuring handling of the above exception, another exception occurred:\n",
      "\u001b[0;31mEEException\u001b[0m                               Traceback (most recent call last)",
      "Cell \u001b[0;32mIn [30], line 9\u001b[0m\n\u001b[1;32m      5\u001b[0m col \u001b[39m=\u001b[39m geemap\u001b[39m.\u001b[39mget_palette_colors(cmap_name\u001b[39m=\u001b[39m\u001b[39m'\u001b[39m\u001b[39mDark2\u001b[39m\u001b[39m'\u001b[39m,  n_class\u001b[39m=\u001b[39m\u001b[39m7\u001b[39m)\n\u001b[1;32m      7\u001b[0m masks \u001b[39m=\u001b[39m [mask0, mask1, mask2, mask3, mask4, mask5, mask6, mask7, mask8]\n\u001b[0;32m----> 9\u001b[0m Map\u001b[39m.\u001b[39;49maddLayer(classified\u001b[39m.\u001b[39;49mrandomVisualizer(), {} , \u001b[39m'\u001b[39;49m\u001b[39mteste\u001b[39;49m\u001b[39m'\u001b[39;49m)\n\u001b[1;32m     10\u001b[0m Map\u001b[39m.\u001b[39maddLayer(masks[\u001b[39m0\u001b[39m], {\u001b[39m'\u001b[39m\u001b[39mpalette\u001b[39m\u001b[39m'\u001b[39m: [\u001b[39m'\u001b[39m\u001b[39mwhite\u001b[39m\u001b[39m'\u001b[39m, \u001b[39m'\u001b[39m\u001b[39mblack\u001b[39m\u001b[39m'\u001b[39m]}, \u001b[39m'\u001b[39m\u001b[39mCluster \u001b[39m\u001b[39m'\u001b[39m\u001b[39m+\u001b[39m \u001b[39mstr\u001b[39m(\u001b[39m0\u001b[39m))\n\u001b[1;32m     11\u001b[0m Map\u001b[39m.\u001b[39maddLayer(masks[\u001b[39m1\u001b[39m], {\u001b[39m'\u001b[39m\u001b[39mpalette\u001b[39m\u001b[39m'\u001b[39m: [\u001b[39m'\u001b[39m\u001b[39mwhite\u001b[39m\u001b[39m'\u001b[39m, \u001b[39m'\u001b[39m\u001b[39mblack\u001b[39m\u001b[39m'\u001b[39m]}, \u001b[39m'\u001b[39m\u001b[39mCluster \u001b[39m\u001b[39m'\u001b[39m\u001b[39m+\u001b[39m \u001b[39mstr\u001b[39m(\u001b[39m1\u001b[39m))\n",
      "File \u001b[0;32m~/projetos/python_proj/alura/lib/python3.10/site-packages/geemap/geemap.py:1495\u001b[0m, in \u001b[0;36mMap.add_ee_layer\u001b[0;34m(self, ee_object, vis_params, name, shown, opacity)\u001b[0m\n\u001b[1;32m   1490\u001b[0m     \u001b[39melif\u001b[39;00m \u001b[39mnot\u001b[39;00m \u001b[39misinstance\u001b[39m(vis_params[\u001b[39m\"\u001b[39m\u001b[39mpalette\u001b[39m\u001b[39m\"\u001b[39m], \u001b[39mlist\u001b[39m):\n\u001b[1;32m   1491\u001b[0m         \u001b[39mraise\u001b[39;00m \u001b[39mValueError\u001b[39;00m(\n\u001b[1;32m   1492\u001b[0m             \u001b[39m\"\u001b[39m\u001b[39mThe palette must be a list of colors or a string or a Box object.\u001b[39m\u001b[39m\"\u001b[39m\n\u001b[1;32m   1493\u001b[0m         )\n\u001b[0;32m-> 1495\u001b[0m map_id_dict \u001b[39m=\u001b[39m ee\u001b[39m.\u001b[39;49mImage(image)\u001b[39m.\u001b[39;49mgetMapId(vis_params)\n\u001b[1;32m   1496\u001b[0m url \u001b[39m=\u001b[39m map_id_dict[\u001b[39m\"\u001b[39m\u001b[39mtile_fetcher\u001b[39m\u001b[39m\"\u001b[39m]\u001b[39m.\u001b[39murl_format\n\u001b[1;32m   1497\u001b[0m tile_layer \u001b[39m=\u001b[39m ipyleaflet\u001b[39m.\u001b[39mTileLayer(\n\u001b[1;32m   1498\u001b[0m     url\u001b[39m=\u001b[39murl,\n\u001b[1;32m   1499\u001b[0m     attribution\u001b[39m=\u001b[39m\u001b[39m\"\u001b[39m\u001b[39mGoogle Earth Engine\u001b[39m\u001b[39m\"\u001b[39m,\n\u001b[0;32m   (...)\u001b[0m\n\u001b[1;32m   1503\u001b[0m     max_zoom\u001b[39m=\u001b[39m\u001b[39m24\u001b[39m,\n\u001b[1;32m   1504\u001b[0m )\n",
      "File \u001b[0;32m~/projetos/python_proj/alura/lib/python3.10/site-packages/ee/image.py:130\u001b[0m, in \u001b[0;36mImage.getMapId\u001b[0;34m(self, vis_params)\u001b[0m\n\u001b[1;32m    128\u001b[0m vis_image, request \u001b[39m=\u001b[39m \u001b[39mself\u001b[39m\u001b[39m.\u001b[39m_apply_visualization(vis_params)\n\u001b[1;32m    129\u001b[0m request[\u001b[39m'\u001b[39m\u001b[39mimage\u001b[39m\u001b[39m'\u001b[39m] \u001b[39m=\u001b[39m vis_image\n\u001b[0;32m--> 130\u001b[0m response \u001b[39m=\u001b[39m data\u001b[39m.\u001b[39;49mgetMapId(request)\n\u001b[1;32m    131\u001b[0m response[\u001b[39m'\u001b[39m\u001b[39mimage\u001b[39m\u001b[39m'\u001b[39m] \u001b[39m=\u001b[39m \u001b[39mself\u001b[39m\n\u001b[1;32m    132\u001b[0m \u001b[39mreturn\u001b[39;00m response\n",
      "File \u001b[0;32m~/projetos/python_proj/alura/lib/python3.10/site-packages/ee/data.py:617\u001b[0m, in \u001b[0;36mgetMapId\u001b[0;34m(params)\u001b[0m\n\u001b[1;32m    612\u001b[0m queryParams \u001b[39m=\u001b[39m {\n\u001b[1;32m    613\u001b[0m     \u001b[39m'\u001b[39m\u001b[39mfields\u001b[39m\u001b[39m'\u001b[39m: \u001b[39m'\u001b[39m\u001b[39mname\u001b[39m\u001b[39m'\u001b[39m,\n\u001b[1;32m    614\u001b[0m     \u001b[39m'\u001b[39m\u001b[39mbody\u001b[39m\u001b[39m'\u001b[39m: request,\n\u001b[1;32m    615\u001b[0m }\n\u001b[1;32m    616\u001b[0m _maybe_populate_workload_tag(queryParams)\n\u001b[0;32m--> 617\u001b[0m result \u001b[39m=\u001b[39m _execute_cloud_call(\n\u001b[1;32m    618\u001b[0m     _get_cloud_api_resource()\u001b[39m.\u001b[39;49mprojects()\u001b[39m.\u001b[39;49mmaps()\u001b[39m.\u001b[39;49mcreate(\n\u001b[1;32m    619\u001b[0m         parent\u001b[39m=\u001b[39;49m_get_projects_path(), \u001b[39m*\u001b[39;49m\u001b[39m*\u001b[39;49mqueryParams))\n\u001b[1;32m    620\u001b[0m map_name \u001b[39m=\u001b[39m result[\u001b[39m'\u001b[39m\u001b[39mname\u001b[39m\u001b[39m'\u001b[39m]\n\u001b[1;32m    621\u001b[0m url_format \u001b[39m=\u001b[39m \u001b[39m'\u001b[39m\u001b[39m%s\u001b[39;00m\u001b[39m/\u001b[39m\u001b[39m%s\u001b[39;00m\u001b[39m/\u001b[39m\u001b[39m%s\u001b[39;00m\u001b[39m/tiles/\u001b[39m\u001b[39m{z}\u001b[39;00m\u001b[39m/\u001b[39m\u001b[39m{x}\u001b[39;00m\u001b[39m/\u001b[39m\u001b[39m{y}\u001b[39;00m\u001b[39m'\u001b[39m \u001b[39m%\u001b[39m (\n\u001b[1;32m    622\u001b[0m     _tile_base_url, _cloud_api_utils\u001b[39m.\u001b[39mVERSION, map_name)\n",
      "File \u001b[0;32m~/projetos/python_proj/alura/lib/python3.10/site-packages/ee/data.py:331\u001b[0m, in \u001b[0;36m_execute_cloud_call\u001b[0;34m(call, num_retries)\u001b[0m\n\u001b[1;32m    329\u001b[0m   \u001b[39mreturn\u001b[39;00m call\u001b[39m.\u001b[39mexecute(num_retries\u001b[39m=\u001b[39mnum_retries)\n\u001b[1;32m    330\u001b[0m \u001b[39mexcept\u001b[39;00m googleapiclient\u001b[39m.\u001b[39merrors\u001b[39m.\u001b[39mHttpError \u001b[39mas\u001b[39;00m e:\n\u001b[0;32m--> 331\u001b[0m   \u001b[39mraise\u001b[39;00m _translate_cloud_exception(e)\n",
      "\u001b[0;31mEEException\u001b[0m: GeometryConstructors.Polygon: LinearRing requires at least 3 points."
     ]
    }
   ],
   "source": [
    "# Create a default map\n",
    "Map = geemap.Map()\n",
    "Map.addLayer(classified.randomVisualizer(), {} , 'teste')\n",
    "Map.addLayer(masks[0], {'palette': ['white', 'black']}, 'Cluster '+ str(0))\n",
    "Map.addLayer(masks[1], {'palette': ['white', 'black']}, 'Cluster '+ str(1))\n",
    "Map.addLayer(masks[2], {'palette': ['white', 'black']}, 'Cluster '+ str(2))\n",
    "Map.addLayer(masks[3], {'palette': ['white', 'black']}, 'Cluster '+ str(3))\n",
    "Map.addLayer(masks[4], {'palette': ['white', 'black']}, 'Cluster '+ str(4))\n",
    "Map.addLayer(masks[5], {'palette': ['white', 'black']}, 'Cluster '+ str(5))\n",
    "Map.addLayer(masks[6], {'palette': ['white', 'black']}, 'Cluster '+ str(6))\n",
    "Map.addLayer(masks[7], {'palette': ['white', 'black']}, 'Cluster '+ str(7))\n",
    "#Map.addLayer(mask0.randomVisualizer(), {} , 'mask')\n",
    "\n",
    "# Display the map\n",
    "Map"
   ]
  },
  {
   "cell_type": "code",
   "execution_count": null,
   "metadata": {},
   "outputs": [],
   "source": []
  }
 ],
 "metadata": {
  "kernelspec": {
   "display_name": "alura",
   "language": "python",
   "name": "python3"
  },
  "language_info": {
   "codemirror_mode": {
    "name": "ipython",
    "version": 3
   },
   "file_extension": ".py",
   "mimetype": "text/x-python",
   "name": "python",
   "nbconvert_exporter": "python",
   "pygments_lexer": "ipython3",
   "version": "3.10.6"
  },
  "orig_nbformat": 4,
  "vscode": {
   "interpreter": {
    "hash": "973fcab2e9113388c6614006306101752919c32eca41d1010d084122a25e3481"
   }
  }
 },
 "nbformat": 4,
 "nbformat_minor": 2
}

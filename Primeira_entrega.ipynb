{
 "cells": [
  {
   "cell_type": "code",
   "execution_count": 1,
   "metadata": {},
   "outputs": [],
   "source": [
    "import ee\n",
    "import os\n",
    "import pandas as pd\n",
    "import seaborn as sns\n",
    "import geopandas as gpd\n",
    "import geemap\n",
    "import rasterio as rio\n",
    "import pprint\n",
    "import time\n",
    "import gc\n",
    "import numpy as np\n",
    "\n",
    "from sklearn.preprocessing import Normalizer\n",
    "from numpy import unique\n",
    "from rasterio import features\n",
    "from osgeo import gdal\n",
    "from osgeo import osr\n",
    "from datetime import datetime\n",
    "from dateutil import relativedelta\n",
    "from datetime import timedelta\n"
   ]
  },
  {
   "cell_type": "code",
   "execution_count": 2,
   "metadata": {},
   "outputs": [],
   "source": [
    "try:\n",
    "    ee.Initialize()\n",
    "except Exception as e:\n",
    "    ee.Authenticate()\n",
    "    ee.Initialize()"
   ]
  },
  {
   "cell_type": "code",
   "execution_count": 3,
   "metadata": {},
   "outputs": [],
   "source": [
    "x = '-56.247947462235125,-7.377467102924857,-55.506370313797625,-7.377467102924857,\\\n",
    "  -55.506370313797625,-6.657806323952262,-56.247947462235125,-6.657806323952262,\\\n",
    "  -56.247947462235125,-7.377467102924857'\n",
    "  \n",
    "x = x.split(',')\n",
    "x = [[float(x[i]), float(x[i+1])] for i in range(0,len(x),2)]\n",
    "\n",
    "\n",
    "geometria = geometry = ee.Geometry.Polygon(x)"
   ]
  },
  {
   "attachments": {},
   "cell_type": "markdown",
   "metadata": {},
   "source": [
    "# Definição dos clusters\n",
    " - Obteção dos clusters;\n",
    " - Criação de mascara para cada cluster obtido;\n",
    " - Visualização das mascaras."
   ]
  },
  {
   "cell_type": "code",
   "execution_count": 4,
   "metadata": {},
   "outputs": [],
   "source": [
    "# Dataset \n",
    "image = ee.ImageCollection(\"LANDSAT/LC08/C02/T1_RT\")\\\n",
    "  .filterBounds(geometry)\\\n",
    "  .filter(ee.Filter.lt('CLOUD_COVER', 5))\\\n",
    "  .filterDate('2012-01-01', '2018-01-01')\\\n",
    "  .median()\\\n",
    "  .clip(geometria)\n",
    "\n",
    "# Create NDVI index\n",
    "ndvi = image.normalizedDifference(['B5', 'B4']).rename('NDVI')\n",
    "\n",
    "# Add NDVI to the image\n",
    "image = image.addBands(ndvi)\n",
    "\n",
    "bands = ['B1', 'B2', 'B3', 'B4', 'B5', 'B6', 'B7', 'NDVI']\n",
    "\n",
    "image = image.select(bands)\n",
    "# Select all bands and NDVI for the classification\n",
    "#print(image.bandNames().getInfo())\n",
    "\n",
    "\n",
    "# Perform K-means clustering\n",
    "training_dataset = image.sample(\n",
    "    **{\n",
    "        'scale': 30,\n",
    "        'numPixels': 2000,\n",
    "        'seed': 0,\n",
    "        'geometries': True,  # Set this to False to ignore geometries\n",
    "    }\n",
    ")\n",
    "\n",
    "\n",
    "clusters_kmeans = ee.Clusterer.wekaKMeans(9).train(training_dataset)\n",
    "\n",
    "# Classify the image\n",
    "classified = image.cluster(clusters_kmeans)\n",
    "\n",
    "# Create a mask for each of the 8 clusters\n",
    "mask0 = classified.eq(0)\n",
    "mask1 = classified.eq(1)\n",
    "mask2 = classified.eq(2)\n",
    "mask3 = classified.eq(3)\n",
    "mask4 = classified.eq(4)\n",
    "mask5 = classified.eq(5)\n",
    "mask6 = classified.eq(6)\n",
    "mask7 = classified.eq(7)\n",
    "mask8 = classified.eq(8)"
   ]
  },
  {
   "cell_type": "code",
   "execution_count": 5,
   "metadata": {},
   "outputs": [
    {
     "data": {
      "application/vnd.jupyter.widget-view+json": {
       "model_id": "360d29995ade4f72a10b45676a82f91e",
       "version_major": 2,
       "version_minor": 0
      },
      "text/plain": [
       "Map(center=[-6.575035169457279, -54.36783956272653], controls=(WidgetControl(options=['position', 'transparent…"
      ]
     },
     "metadata": {},
     "output_type": "display_data"
    }
   ],
   "source": [
    "# Create a default map\n",
    "Map = geemap.Map()\n",
    "\n",
    "#Create an NDWI image, define visualization parameters and display.\n",
    "col = geemap.get_palette_colors(cmap_name='Dark2',  n_class=7)\n",
    "\n",
    "masks = [mask0, mask1, mask2, mask3, mask4, mask5, mask6, mask7, mask8]\n",
    "\n",
    "Map.setCenter(-54.36783956272653,-6.575035169457279,9)\n",
    "\n",
    "\n",
    "Map.addLayer(image, {'bands':['B4','B3','B2']}, 'RGB')\n",
    "Map.addLayer(classified.randomVisualizer(), {} , 'teste')\n",
    "Map.addLayer(masks[0], {'palette': ['white', 'black']}, 'Cluster '+ str(0))\n",
    "Map.addLayer(masks[1], {'palette': ['white', 'black']}, 'Cluster '+ str(1))\n",
    "Map.addLayer(masks[2], {'palette': ['white', 'black']}, 'Cluster '+ str(2))\n",
    "Map.addLayer(masks[3], {'palette': ['white', 'black']}, 'Cluster '+ str(3))\n",
    "Map.addLayer(masks[4], {'palette': ['white', 'black']}, 'Cluster '+ str(4))\n",
    "Map.addLayer(masks[5], {'palette': ['white', 'black']}, 'Cluster '+ str(5))\n",
    "Map.addLayer(masks[6], {'palette': ['white', 'black']}, 'Cluster '+ str(6))\n",
    "Map.addLayer(masks[7], {'palette': ['white', 'black']}, 'Cluster '+ str(7))\n",
    "#Map.addLayer(mask0.randomVisualizer(), {} , 'mask')\n",
    "\n",
    "# Display the map\n",
    "Map"
   ]
  },
  {
   "attachments": {},
   "cell_type": "markdown",
   "metadata": {},
   "source": [
    "# Definição das dimensões do ***espaço amostral $\\Omega$***\n",
    "*   **Dimensões**:\n",
    "\n",
    "    * **Espacial**:\n",
    "    \n",
    "    ![DEU RUIM](ROI2.png \"ROI\").\n",
    "\n",
    "    * **Temporal**: 2012-01-01  → 2022-01-01\n",
    "\n",
    "*   **Dataset**: Landsat 8\n",
    "\n",
    "    * **LANDSAT/LC08/C02/T1_RT**         \n",
    "    "
   ]
  },
  {
   "cell_type": "code",
   "execution_count": 6,
   "metadata": {},
   "outputs": [
    {
     "data": {
      "application/vnd.jupyter.widget-view+json": {
       "model_id": "a28a9cef402f40c6a8f52d7e341113af",
       "version_major": 2,
       "version_minor": 0
      },
      "text/plain": [
       "Map(center=[-6.575035169457279, -54.36783956272653], controls=(WidgetControl(options=['position', 'transparent…"
      ]
     },
     "metadata": {},
     "output_type": "display_data"
    }
   ],
   "source": [
    "# Dataset \n",
    "IMAGE_COLLECTION = ee.ImageCollection(\"LANDSAT/LC08/C02/T1_RT\")\\\n",
    "  .filterBounds(geometry)\\\n",
    "  .filter(ee.Filter.lt('CLOUD_COVER', 80))\\\n",
    "  .filterDate('2012-01-01', '2022-01-01')\n",
    "\n",
    "## MEDIANA PARA TAPAR BURACO\n",
    "\n",
    "masked = IMAGE_COLLECTION.map(lambda img: img.updateMask(mask0))\n",
    "\n",
    "Map = geemap.Map()\n",
    "Map.setCenter(-54.36783956272653,-6.575035169457279,9)\n",
    "Map.addLayer(masked.median(), {\n",
    "  'bands':['B4','B3','B2'],\n",
    "  'min':100,\n",
    "  'max':1000\n",
    "} , 'teste')\n",
    "Map"
   ]
  },
  {
   "cell_type": "code",
   "execution_count": 7,
   "metadata": {},
   "outputs": [],
   "source": [
    "IMAGE_COLLECTION = IMAGE_COLLECTION.map(lambda img: img.addBands(classified))"
   ]
  },
  {
   "cell_type": "code",
   "execution_count": 8,
   "metadata": {},
   "outputs": [],
   "source": [
    "def add_date_info(df):\n",
    "  df['Timestamp'] = pd.to_datetime(df['millis'], unit='ms')\n",
    "  df['Jdate'] = pd.DatetimeIndex(df['Timestamp']).to_julian_date()\n",
    "  return df\n",
    "\n",
    "\n",
    "def fc_to_dict(fc):\n",
    "  \n",
    "  prop_names = fc.first().propertyNames()\n",
    "\n",
    "  prop_lists = fc.reduceColumns(\n",
    "\n",
    "      reducer=ee.Reducer.toList().repeat(prop_names.size()),\n",
    "\n",
    "      selectors=prop_names).get('list')\n",
    "\n",
    "  return ee.Dictionary.fromLists(prop_names, prop_lists)\n",
    "\n",
    "\n",
    "def create_reduce_region_function(geometry=masked.geometry(),\n",
    "                                  reducer=ee.Reducer.median(),\n",
    "                                  scale=30,\n",
    "                                  crs='EPSG:4326',\n",
    "                                  bestEffort=True,\n",
    "                                  maxPixels=1e13,\n",
    "                                  tileScale=4):\n",
    "\n",
    "  def reduce_region_function(img):\n",
    "    stat = img.reduceRegion(\n",
    "        reducer=reducer,\n",
    "        geometry=geometry,\n",
    "        scale=scale,\n",
    "        crs=crs,\n",
    "        bestEffort=bestEffort,\n",
    "        maxPixels=maxPixels,\n",
    "        tileScale=tileScale)\n",
    "    return ee.Feature(geometry, stat).set({'millis': img.date().millis()})  \n",
    "  return reduce_region_function\n",
    "\n",
    "def ndvi(imagem):\n",
    "  ndvi = imagem.expression('(nir - red) / (nir + red)',{\n",
    "    'nir':imagem.select('B5'),\n",
    "    'red':imagem.select('B4')}).rename('ndvi')\n",
    "  return imagem.addBands(ndvi)\n",
    "\n",
    "def savi(imagem):\n",
    "  savi = imagem.expression('((nir - red) / (nir + red + 0.5))*(1.5)',\n",
    "  {'nir':imagem.select('B5'),\n",
    "  'red':imagem.select('B4')}).rename('savi')\n",
    "  return imagem.addBands(savi)\n",
    "\n",
    "\n",
    "IMAGE_COLLECTION = IMAGE_COLLECTION.map(ndvi)\n",
    "IMAGE_COLLECTION = IMAGE_COLLECTION.map(savi)\n",
    "IMAGE_COLLECTION = IMAGE_COLLECTION.map(lambda img: img.select(['ndvi','savi']))"
   ]
  },
  {
   "cell_type": "code",
   "execution_count": 10,
   "metadata": {},
   "outputs": [
    {
     "name": "stdout",
     "output_type": "stream",
     "text": [
      "df0\n",
      "df1\n",
      "df2\n",
      "df3\n",
      "df4\n",
      "df5\n",
      "df6\n",
      "df7\n",
      "df8\n"
     ]
    }
   ],
   "source": [
    "for i in range(0,len(masks)):\n",
    "  \n",
    "  masked = IMAGE_COLLECTION.map(lambda img: img.updateMask(masks[i]))\n",
    "  \n",
    "  reduce_b = create_reduce_region_function(\n",
    "  geometry = masks[i].geometry(), reducer=ee.Reducer.stdDev(), scale=30)\n",
    "\n",
    "  b_stat_fc = ee.FeatureCollection(masked.map(reduce_b)).filter(\n",
    "  ee.Filter.notNull(masked.first().bandNames()))\n",
    "  \n",
    "  dict = fc_to_dict(b_stat_fc).getInfo()\n",
    "  \n",
    "  df = pd.DataFrame(dict)\n",
    "  df = add_date_info(df)\n",
    "  \n",
    "  name_file = 'df_std'+str(i)+'.csv'\n",
    "  df.to_csv(name_file)\n",
    "  print('df'+str(i))"
   ]
  },
  {
   "cell_type": "code",
   "execution_count": 11,
   "metadata": {},
   "outputs": [],
   "source": [
    "for i in range(0,len(masks)):\n",
    "  \n",
    "  masked = IMAGE_COLLECTION.map(lambda img: img.updateMask(masks[i]))\n",
    "  \n",
    "  reduce_b = create_reduce_region_function(\n",
    "  geometry = masks[i].geometry(), reducer=ee.Reducer.median(), scale=30)\n",
    "\n",
    "  b_stat_fc = ee.FeatureCollection(masked.map(reduce_b)).filter(\n",
    "  ee.Filter.notNull(masked.first().bandNames()))\n",
    "  \n",
    "  dict = fc_to_dict(b_stat_fc).getInfo()\n",
    "  \n",
    "  df = pd.DataFrame(dict)\n",
    "  df = add_date_info(df)\n",
    "  \n",
    "  name_file = 'df_median'+str(i)+'.csv'\n",
    "  df.to_csv(name_file)\n",
    "  print('df'+str(i))"
   ]
  },
  {
   "attachments": {},
   "cell_type": "markdown",
   "metadata": {},
   "source": [
    "masked = IMAGE_COLLECTION.map(lambda img: img.updateMask(masks[1]))"
   ]
  },
  {
   "cell_type": "code",
   "execution_count": 26,
   "metadata": {},
   "outputs": [],
   "source": [
    "\n",
    "#masked = masked.map(lambda img: img.select(['ndvi','savi','B4']))"
   ]
  },
  {
   "cell_type": "code",
   "execution_count": 50,
   "metadata": {},
   "outputs": [],
   "source": [
    "reduce_b = create_reduce_region_function(geometry=masks[1].geometry(), reducer=ee.Reducer.median(), scale=30)\n"
   ]
  },
  {
   "cell_type": "code",
   "execution_count": 51,
   "metadata": {},
   "outputs": [],
   "source": [
    "b_stat_fc = ee.FeatureCollection(masked.map(reduce_b))\\\n",
    "    .filter(ee.Filter.notNull(masked.first().bandNames()))\n",
    "b_stat_fc"
   ]
  },
  {
   "cell_type": "code",
   "execution_count": null,
   "metadata": {},
   "outputs": [
    {
     "ename": "EEException",
     "evalue": "Computation timed out.",
     "output_type": "error",
     "traceback": [
      "\u001b[0;31m---------------------------------------------------------------------------\u001b[0m",
      "\u001b[0;31mHttpError\u001b[0m                                 Traceback (most recent call last)",
      "File \u001b[0;32m~/projetos/python_proj/alura/lib/python3.10/site-packages/ee/data.py:329\u001b[0m, in \u001b[0;36m_execute_cloud_call\u001b[0;34m(call, num_retries)\u001b[0m\n\u001b[1;32m    328\u001b[0m \u001b[39mtry\u001b[39;00m:\n\u001b[0;32m--> 329\u001b[0m   \u001b[39mreturn\u001b[39;00m call\u001b[39m.\u001b[39;49mexecute(num_retries\u001b[39m=\u001b[39;49mnum_retries)\n\u001b[1;32m    330\u001b[0m \u001b[39mexcept\u001b[39;00m googleapiclient\u001b[39m.\u001b[39merrors\u001b[39m.\u001b[39mHttpError \u001b[39mas\u001b[39;00m e:\n",
      "File \u001b[0;32m~/projetos/python_proj/alura/lib/python3.10/site-packages/googleapiclient/_helpers.py:130\u001b[0m, in \u001b[0;36mpositional.<locals>.positional_decorator.<locals>.positional_wrapper\u001b[0;34m(*args, **kwargs)\u001b[0m\n\u001b[1;32m    129\u001b[0m         logger\u001b[39m.\u001b[39mwarning(message)\n\u001b[0;32m--> 130\u001b[0m \u001b[39mreturn\u001b[39;00m wrapped(\u001b[39m*\u001b[39;49margs, \u001b[39m*\u001b[39;49m\u001b[39m*\u001b[39;49mkwargs)\n",
      "File \u001b[0;32m~/projetos/python_proj/alura/lib/python3.10/site-packages/googleapiclient/http.py:938\u001b[0m, in \u001b[0;36mHttpRequest.execute\u001b[0;34m(self, http, num_retries)\u001b[0m\n\u001b[1;32m    937\u001b[0m \u001b[39mif\u001b[39;00m resp\u001b[39m.\u001b[39mstatus \u001b[39m>\u001b[39m\u001b[39m=\u001b[39m \u001b[39m300\u001b[39m:\n\u001b[0;32m--> 938\u001b[0m     \u001b[39mraise\u001b[39;00m HttpError(resp, content, uri\u001b[39m=\u001b[39m\u001b[39mself\u001b[39m\u001b[39m.\u001b[39muri)\n\u001b[1;32m    939\u001b[0m \u001b[39mreturn\u001b[39;00m \u001b[39mself\u001b[39m\u001b[39m.\u001b[39mpostproc(resp, content)\n",
      "\u001b[0;31mHttpError\u001b[0m: <HttpError 400 when requesting https://earthengine.googleapis.com/v1alpha/projects/earthengine-legacy/value:compute?prettyPrint=false&alt=json returned \"Computation timed out.\". Details: \"Computation timed out.\">",
      "\nDuring handling of the above exception, another exception occurred:\n",
      "\u001b[0;31mEEException\u001b[0m                               Traceback (most recent call last)",
      "Cell \u001b[0;32mIn [29], line 1\u001b[0m\n\u001b[0;32m----> 1\u001b[0m \u001b[39mdict\u001b[39m \u001b[39m=\u001b[39m fc_to_dict(b_stat_fc)\u001b[39m.\u001b[39;49mgetInfo()\n\u001b[1;32m      2\u001b[0m \u001b[39mdict\u001b[39m\n",
      "File \u001b[0;32m~/projetos/python_proj/alura/lib/python3.10/site-packages/ee/computedobject.py:96\u001b[0m, in \u001b[0;36mComputedObject.getInfo\u001b[0;34m(self)\u001b[0m\n\u001b[1;32m     90\u001b[0m \u001b[39mdef\u001b[39;00m \u001b[39mgetInfo\u001b[39m(\u001b[39mself\u001b[39m):\n\u001b[1;32m     91\u001b[0m \u001b[39m  \u001b[39m\u001b[39m\"\"\"Fetch and return information about this object.\u001b[39;00m\n\u001b[1;32m     92\u001b[0m \n\u001b[1;32m     93\u001b[0m \u001b[39m  Returns:\u001b[39;00m\n\u001b[1;32m     94\u001b[0m \u001b[39m    The object can evaluate to anything.\u001b[39;00m\n\u001b[1;32m     95\u001b[0m \u001b[39m  \"\"\"\u001b[39;00m\n\u001b[0;32m---> 96\u001b[0m   \u001b[39mreturn\u001b[39;00m data\u001b[39m.\u001b[39;49mcomputeValue(\u001b[39mself\u001b[39;49m)\n",
      "File \u001b[0;32m~/projetos/python_proj/alura/lib/python3.10/site-packages/ee/data.py:786\u001b[0m, in \u001b[0;36mcomputeValue\u001b[0;34m(obj)\u001b[0m\n\u001b[1;32m    783\u001b[0m body \u001b[39m=\u001b[39m {\u001b[39m'\u001b[39m\u001b[39mexpression\u001b[39m\u001b[39m'\u001b[39m: serializer\u001b[39m.\u001b[39mencode(obj, for_cloud_api\u001b[39m=\u001b[39m\u001b[39mTrue\u001b[39;00m)}\n\u001b[1;32m    784\u001b[0m _maybe_populate_workload_tag(body)\n\u001b[0;32m--> 786\u001b[0m \u001b[39mreturn\u001b[39;00m _execute_cloud_call(\n\u001b[1;32m    787\u001b[0m     _get_cloud_api_resource()\u001b[39m.\u001b[39;49mprojects()\u001b[39m.\u001b[39;49mvalue()\u001b[39m.\u001b[39;49mcompute(\n\u001b[1;32m    788\u001b[0m         body\u001b[39m=\u001b[39;49mbody,\n\u001b[1;32m    789\u001b[0m         project\u001b[39m=\u001b[39;49m_get_projects_path(),\n\u001b[1;32m    790\u001b[0m         prettyPrint\u001b[39m=\u001b[39;49m\u001b[39mFalse\u001b[39;49;00m))[\u001b[39m'\u001b[39m\u001b[39mresult\u001b[39m\u001b[39m'\u001b[39m]\n",
      "File \u001b[0;32m~/projetos/python_proj/alura/lib/python3.10/site-packages/ee/data.py:331\u001b[0m, in \u001b[0;36m_execute_cloud_call\u001b[0;34m(call, num_retries)\u001b[0m\n\u001b[1;32m    329\u001b[0m   \u001b[39mreturn\u001b[39;00m call\u001b[39m.\u001b[39mexecute(num_retries\u001b[39m=\u001b[39mnum_retries)\n\u001b[1;32m    330\u001b[0m \u001b[39mexcept\u001b[39;00m googleapiclient\u001b[39m.\u001b[39merrors\u001b[39m.\u001b[39mHttpError \u001b[39mas\u001b[39;00m e:\n\u001b[0;32m--> 331\u001b[0m   \u001b[39mraise\u001b[39;00m _translate_cloud_exception(e)\n",
      "\u001b[0;31mEEException\u001b[0m: Computation timed out."
     ]
    }
   ],
   "source": [
    "dict = fc_to_dict(b_stat_fc).getInfo()\n",
    "dict"
   ]
  },
  {
   "cell_type": "code",
   "execution_count": null,
   "metadata": {},
   "outputs": [],
   "source": [
    "\n",
    "df = pd.DataFrame(dict)\n",
    "df.sample(7)"
   ]
  },
  {
   "cell_type": "code",
   "execution_count": null,
   "metadata": {},
   "outputs": [],
   "source": [
    "df = add_date_info(df)\n",
    "df.sample(7)"
   ]
  },
  {
   "cell_type": "code",
   "execution_count": null,
   "metadata": {},
   "outputs": [],
   "source": [
    "df.sample(5)"
   ]
  },
  {
   "cell_type": "code",
   "execution_count": null,
   "metadata": {},
   "outputs": [],
   "source": [
    "df.shape"
   ]
  },
  {
   "cell_type": "code",
   "execution_count": null,
   "metadata": {},
   "outputs": [],
   "source": [
    "list_ic = masked.toList(masked.size())"
   ]
  },
  {
   "cell_type": "code",
   "execution_count": null,
   "metadata": {},
   "outputs": [],
   "source": [
    "list_ic = masked.toList(masked.size())\n",
    "newList1 = ee.List([])\n",
    "dateList = {}\n",
    "testeDate = {}\n",
    "\n",
    "Qdias = timedelta(days=30)\n",
    "\n",
    "def di_to_array(di):\n",
    "    \n",
    "    di = di.values()\n",
    "    di = list(di)\n",
    "    di = np.array(di)\n",
    "    \n",
    "    return di\n",
    "\n",
    "# Dataset \n",
    "\n",
    "\n",
    "for i in list(range(df.index.size)):\n",
    "\n",
    "    if masked.size().getInfo()!=0:\n",
    "        \n",
    "        dateList[i] = df['Jdate'][i]\n",
    "\n",
    "        blue = 'B2'; green = 'B3'; red = 'B4'; nir = 'B5'; swir1 = 'B6'; swir2 = 'B7';\n",
    "\n",
    "        def ndvi(imagem):\n",
    "            ndvi = imagem.expression('(nir - red) / (nir + red)',\n",
    "            {\n",
    "                'nir':imagem.select(nir),\n",
    "                'red':imagem.select(red)\n",
    "            }).rename('ndvi')\n",
    "            return imagem.addBands(ndvi)\n",
    "\n",
    "        def savi(imagem):\n",
    "            savi = imagem.expression('((nir - red) / (nir + red + 0.5))*(1.5)',\n",
    "            {\n",
    "                'nir':imagem.select(nir),\n",
    "                'red':imagem.select(red)\n",
    "            }).rename('savi')\n",
    "            return imagem.addBands(savi)\n",
    "\n",
    "\n",
    "        masked = masked.map(ndvi)\n",
    "        masked = masked.map(savi)\n",
    "        mediana = masked.mean()\n",
    "        media = masked.median()\n",
    "\n",
    "\n",
    "        newList1 = newList1.add(mediana)\n",
    "        newList1 = newList1.add(media)\n",
    "\n",
    "\n"
   ]
  },
  {
   "cell_type": "code",
   "execution_count": null,
   "metadata": {},
   "outputs": [],
   "source": [
    "def ext_lat_lon_pixel30(image, geometria, bandas):\n",
    "    image = image.addBands(ee.Image.pixelLonLat())\n",
    "    coordenadas = image.select(['longitude', 'latitude'] + bandas)\\\n",
    "        .reduceRegion(reducer=ee.Reducer.toList(),\n",
    "                      geometry=geometria,\n",
    "                      scale=30,\n",
    "                      bestEffort=True)\n",
    "\n",
    "    bandas_valores = []\n",
    "    for banda in bandas:\n",
    "        bandas_valores.append(np.array(ee.List(coordenadas.get(banda)).getInfo()).astype(float))\n",
    "\n",
    "    return np.array(ee.List(coordenadas.get('latitude')).getInfo()).astype(float), np.array(ee.List(coordenadas.get('longitude')).getInfo()).astype(float), bandas_valores"
   ]
  },
  {
   "cell_type": "code",
   "execution_count": null,
   "metadata": {},
   "outputs": [],
   "source": [
    "dateList = di_to_array(dateList)\n",
    "dateList1 = np.repeat(dateList,2)"
   ]
  },
  {
   "cell_type": "code",
   "execution_count": null,
   "metadata": {},
   "outputs": [],
   "source": [
    "dateList1.size"
   ]
  },
  {
   "cell_type": "code",
   "execution_count": null,
   "metadata": {},
   "outputs": [],
   "source": [
    "trainCollection = ee.ImageCollection(newList1)"
   ]
  },
  {
   "cell_type": "code",
   "execution_count": null,
   "metadata": {},
   "outputs": [],
   "source": [
    "#defaultDummy = 0\n",
    "#df_ndvi = pd.DataFrame()\n",
    "#di = {}\n",
    "#index2 = list(range(0,90))#63\n",
    "#for j in range(trainCollection.size().getInfo()):\n",
    "#    tempndvi = index2[j]\n",
    "#    img = ee.Image(newList1.get(j))\n",
    "#    lat30, lon30, ind30 = ext_lat_lon_pixel30(img,mask0.geometry(),['ndvi'])\n",
    "#    di[tempndvi] = ind30[0]\n",
    "#    \n",
    "#df_ndvi = df_ndvi.from_dict(di)\n",
    "#df_ndvi = df_ndvi.assign(Latitude = lat30)\n",
    "#df_ndvi = df_ndvi.assign(Longitude = lon30)\n",
    "#df_ndvi = df_ndvi.set_index(['Latitude','Longitude'])\n",
    "#df_ndvi.sample(10)"
   ]
  },
  {
   "cell_type": "code",
   "execution_count": null,
   "metadata": {},
   "outputs": [],
   "source": [
    "print(f'Shape: {df.shape}\\n\\n ------------------------------- \\n\\n col types: {df.dtypes} \\n\\n \\\n",
    "       size: {IMAGE_COLLECTION.size().getInfo()}')"
   ]
  },
  {
   "cell_type": "code",
   "execution_count": null,
   "metadata": {},
   "outputs": [],
   "source": [
    "sns.lineplot(y='ndvi',\n",
    "             x='Timestamp',\n",
    "             data=df)"
   ]
  },
  {
   "cell_type": "code",
   "execution_count": null,
   "metadata": {},
   "outputs": [],
   "source": [
    "from sklearn.preprocessing import Normalizer\n",
    "# %matplotlib inline: only draw static images in the notebook\n",
    "subset = ['Timestamp','ndvi','savi','B2','B3','B4','B5']\n",
    "df = df[subset]\n",
    "norm = Normalizer()\n",
    "normalizado = Normalizer().fit_transform(df[['ndvi','savi','B2','B3','B4','B5']].values)\n",
    "padronizado = pd.DataFrame(normalizado)\n",
    "padronizado_com_timestap = pd.concat([padronizado,df['Timestamp']],axis=1).rename(columns={i: subset[i] for i in range(0,len(subset))})\n",
    "padronizado_com_timestap.sample(5)"
   ]
  },
  {
   "cell_type": "code",
   "execution_count": null,
   "metadata": {},
   "outputs": [],
   "source": [
    "ts_plot = padronizado_com_timestap.plot(x=0,\n",
    "                     kind='line', \\\n",
    "                     title = 'Comportamento espectral ao longo do periodo de análise');\n",
    "ts_plot.grid()\n",
    "# define the legend location\n",
    "ts_plot.legend(loc='upper left');"
   ]
  },
  {
   "cell_type": "code",
   "execution_count": null,
   "metadata": {},
   "outputs": [],
   "source": [
    "sns.lineplot(y='ndvi',\n",
    "            x='Timestamp',\n",
    "            data=df)"
   ]
  },
  {
   "cell_type": "code",
   "execution_count": null,
   "metadata": {},
   "outputs": [],
   "source": [
    "padronizado_com_timestap.to_csv('data_frame.csv')"
   ]
  },
  {
   "cell_type": "code",
   "execution_count": null,
   "metadata": {},
   "outputs": [],
   "source": [
    "IMAGE_COLLECTION.add(classified)"
   ]
  }
 ],
 "metadata": {
  "kernelspec": {
   "display_name": "alura",
   "language": "python",
   "name": "python3"
  },
  "language_info": {
   "codemirror_mode": {
    "name": "ipython",
    "version": 3
   },
   "file_extension": ".py",
   "mimetype": "text/x-python",
   "name": "python",
   "nbconvert_exporter": "python",
   "pygments_lexer": "ipython3",
   "version": "3.10.6"
  },
  "orig_nbformat": 4,
  "vscode": {
   "interpreter": {
    "hash": "973fcab2e9113388c6614006306101752919c32eca41d1010d084122a25e3481"
   }
  }
 },
 "nbformat": 4,
 "nbformat_minor": 2
}
